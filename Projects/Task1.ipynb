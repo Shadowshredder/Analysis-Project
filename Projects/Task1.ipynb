{
 "cells": [
  {
   "cell_type": "code",
   "execution_count": null,
   "id": "d8cbc2da-a560-4bbf-a9b8-39c593db7faf",
   "metadata": {},
   "outputs": [],
   "source": [
    "# Task: Top Cuisines\n",
    "# Objective: Determine the top three most common cuisines in the dataset\n",
    "# and calculate the percentage of restaurants that serve each of them.\n",
    "import pandas as pd"
   ]
  },
  {
   "cell_type": "code",
   "execution_count": 3,
   "id": "4585e0c3-31b9-475a-afd5-910979c38b75",
   "metadata": {},
   "outputs": [],
   "source": [
    "# Load the dataset\n",
    "file_path = \"Dataset .csv\"  \n",
    "df = pd.read_csv(file_path)\n"
   ]
  },
  {
   "cell_type": "code",
   "execution_count": 4,
   "id": "755376dc-5c1c-48ba-8d0a-ef048300259c",
   "metadata": {},
   "outputs": [],
   "source": [
    "# Step 1: Clean and process the 'Cuisines' column\n",
    "# Drop NaN values, split multiple cuisines, remove whitespace, and flatten the list\n",
    "cuisine_series = df['Cuisines'].dropna().str.split(',').explode().str.strip()\n"
   ]
  },
  {
   "cell_type": "code",
   "execution_count": 5,
   "id": "ae111afe-97a5-4701-81dc-8bfc2476a47c",
   "metadata": {},
   "outputs": [],
   "source": [
    "\n",
    "# Step 2: Count frequency of each cuisine\n",
    "cuisine_counts = cuisine_series.value_counts()\n"
   ]
  },
  {
   "cell_type": "code",
   "execution_count": 6,
   "id": "5e65db35-ae20-4051-bfc7-a3937aa7274c",
   "metadata": {},
   "outputs": [],
   "source": [
    "# Step 3: Get the top 3 most common cuisines\n",
    "top_3_cuisines = cuisine_counts.head(3)"
   ]
  },
  {
   "cell_type": "code",
   "execution_count": 7,
   "id": "5c0c205b-685a-4f9b-8441-30ae9e7375ca",
   "metadata": {},
   "outputs": [],
   "source": [
    "# Step 4: Calculate percentage of total restaurants for each top cuisine\n",
    "total_restaurants = df.shape[0]\n",
    "top_3_percentages = (top_3_cuisines / total_restaurants) * 100\n"
   ]
  },
  {
   "cell_type": "code",
   "execution_count": 9,
   "id": "c4da0a49-eeb0-4d11-8e6c-1fc1d874c3ed",
   "metadata": {},
   "outputs": [
    {
     "name": "stdout",
     "output_type": "stream",
     "text": [
      "Top 3 Most Common Cuisines and Their Percentage of Total Restaurants:\n",
      "\n",
      "North Indian: 3960 restaurants (41.46%)\n",
      "Chinese: 2735 restaurants (28.64%)\n",
      "Fast Food: 1986 restaurants (20.79%)\n"
     ]
    }
   ],
   "source": [
    "# Step 5: Display the results\n",
    "print(\"Top 3 Most Common Cuisines and Their Percentage of Total Restaurants:\\n\")\n",
    "for cuisine, count in top_3_cuisines.items():\n",
    "    percentage = (count / total_restaurants) * 100\n",
    "    print(f\"{cuisine}: {count} restaurants ({percentage:.2f}%)\")"
   ]
  },
  {
   "cell_type": "code",
   "execution_count": null,
   "id": "75380b02-5dd8-4433-b25c-568fcc247eb6",
   "metadata": {},
   "outputs": [],
   "source": []
  }
 ],
 "metadata": {
  "kernelspec": {
   "display_name": "Python 3 (ipykernel)",
   "language": "python",
   "name": "python3"
  },
  "language_info": {
   "codemirror_mode": {
    "name": "ipython",
    "version": 3
   },
   "file_extension": ".py",
   "mimetype": "text/x-python",
   "name": "python",
   "nbconvert_exporter": "python",
   "pygments_lexer": "ipython3",
   "version": "3.9.6"
  }
 },
 "nbformat": 4,
 "nbformat_minor": 5
}
